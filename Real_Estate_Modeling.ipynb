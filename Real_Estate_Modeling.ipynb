{
 "cells": [
  {
   "cell_type": "markdown",
   "id": "d8018d62-eece-4612-8918-5bebd7653c6f",
   "metadata": {},
   "source": [
    "## Project Overview\n",
    "\n",
    "This notebook continues from the exploratory data analysis (EDA) to build a predictive model for real estate sale prices using the dataset `real-estate-sales-2001-2022`.\n",
    "\n",
    "The primary goal of this notebook is to use machine learning techniques to **predict property sale prices** based on various features such as floor area, town, property type, and transaction date.\n",
    "\n",
    "The key steps of this notebook include:\n",
    "\n",
    "**Data Preparation**  \n",
    "- Handling missing values, duplicates, and data types.  \n",
    "- Encoding categorical variables and selecting relevant features.\n",
    "\n",
    "**Feature Engineering**  \n",
    "- Extracting year and month from sale dates.  \n",
    "- Creating new features (e.g., price per sqm if needed).\n",
    "\n",
    "**Data Splitting**  \n",
    "- Splitting the dataset into training and testing sets.\n",
    "\n",
    "**Model Training**  \n",
    "- Training a **Linear Regression** model to predict property prices.\n",
    "\n",
    "**Evaluation**  \n",
    "- Measuring model performance using **R² score** and **Root Mean Squared Error (RMSE)**."
   ]
  },
  {
   "cell_type": "code",
   "execution_count": 55,
   "id": "5538ee9c-ebd3-442b-b079-a5980492348e",
   "metadata": {},
   "outputs": [],
   "source": [
    "# Import libraries\n",
    "\n",
    "import pandas as pd\n",
    "import numpy as np\n",
    "import matplotlib.pyplot as plt\n",
    "from sklearn.model_selection import train_test_split\n",
    "from sklearn.linear_model import LinearRegression\n",
    "from sklearn.metrics import mean_squared_error, r2_score"
   ]
  },
  {
   "cell_type": "code",
   "execution_count": 3,
   "id": "29e07015-003a-4084-a410-d2d7f62a6c51",
   "metadata": {},
   "outputs": [],
   "source": [
    "# Load cleaned dataset\n",
    "\n",
    "df = pd.read_csv(\"clean_data.csv\", low_memory=False)"
   ]
  },
  {
   "cell_type": "code",
   "execution_count": 8,
   "id": "ab165abc-8a8a-42bb-b19e-cbdbce0b7d1f",
   "metadata": {},
   "outputs": [
    {
     "data": {
      "text/html": [
       "<div>\n",
       "<style scoped>\n",
       "    .dataframe tbody tr th:only-of-type {\n",
       "        vertical-align: middle;\n",
       "    }\n",
       "\n",
       "    .dataframe tbody tr th {\n",
       "        vertical-align: top;\n",
       "    }\n",
       "\n",
       "    .dataframe thead th {\n",
       "        text-align: right;\n",
       "    }\n",
       "</style>\n",
       "<table border=\"1\" class=\"dataframe\">\n",
       "  <thead>\n",
       "    <tr style=\"text-align: right;\">\n",
       "      <th></th>\n",
       "      <th>Serial Number</th>\n",
       "      <th>List Year</th>\n",
       "      <th>Date Recorded</th>\n",
       "      <th>Town</th>\n",
       "      <th>Address</th>\n",
       "      <th>Assessed Value</th>\n",
       "      <th>Sale Amount</th>\n",
       "      <th>Sales Ratio</th>\n",
       "      <th>Property Type</th>\n",
       "      <th>Residential Type</th>\n",
       "      <th>Latitude</th>\n",
       "      <th>Longitude</th>\n",
       "    </tr>\n",
       "  </thead>\n",
       "  <tbody>\n",
       "    <tr>\n",
       "      <th>0</th>\n",
       "      <td>2020177</td>\n",
       "      <td>2020</td>\n",
       "      <td>2021-04-14</td>\n",
       "      <td>Ansonia</td>\n",
       "      <td>323 BEAVER ST</td>\n",
       "      <td>133000.0</td>\n",
       "      <td>248400.0</td>\n",
       "      <td>0.5354</td>\n",
       "      <td>Residential</td>\n",
       "      <td>Single Family</td>\n",
       "      <td>41.350140</td>\n",
       "      <td>-73.068220</td>\n",
       "    </tr>\n",
       "    <tr>\n",
       "      <th>1</th>\n",
       "      <td>2020225</td>\n",
       "      <td>2020</td>\n",
       "      <td>2021-05-26</td>\n",
       "      <td>Ansonia</td>\n",
       "      <td>152 JACKSON ST</td>\n",
       "      <td>110500.0</td>\n",
       "      <td>239900.0</td>\n",
       "      <td>0.4606</td>\n",
       "      <td>Residential</td>\n",
       "      <td>Three Family</td>\n",
       "      <td>NaN</td>\n",
       "      <td>NaN</td>\n",
       "    </tr>\n",
       "    <tr>\n",
       "      <th>2</th>\n",
       "      <td>2020348</td>\n",
       "      <td>2020</td>\n",
       "      <td>2021-09-13</td>\n",
       "      <td>Ansonia</td>\n",
       "      <td>230 WAKELEE AVE</td>\n",
       "      <td>150500.0</td>\n",
       "      <td>325000.0</td>\n",
       "      <td>0.4630</td>\n",
       "      <td>Commercial</td>\n",
       "      <td>NaN</td>\n",
       "      <td>NaN</td>\n",
       "      <td>NaN</td>\n",
       "    </tr>\n",
       "    <tr>\n",
       "      <th>3</th>\n",
       "      <td>2020090</td>\n",
       "      <td>2020</td>\n",
       "      <td>2020-12-14</td>\n",
       "      <td>Ansonia</td>\n",
       "      <td>57 PLATT ST</td>\n",
       "      <td>127400.0</td>\n",
       "      <td>202500.0</td>\n",
       "      <td>0.6291</td>\n",
       "      <td>Residential</td>\n",
       "      <td>Two Family</td>\n",
       "      <td>NaN</td>\n",
       "      <td>NaN</td>\n",
       "    </tr>\n",
       "    <tr>\n",
       "      <th>4</th>\n",
       "      <td>210288</td>\n",
       "      <td>2021</td>\n",
       "      <td>2022-06-20</td>\n",
       "      <td>Avon</td>\n",
       "      <td>12 BYRON DRIVE</td>\n",
       "      <td>179990.0</td>\n",
       "      <td>362500.0</td>\n",
       "      <td>0.4965</td>\n",
       "      <td>Residential</td>\n",
       "      <td>Condo</td>\n",
       "      <td>41.773453</td>\n",
       "      <td>-72.879116</td>\n",
       "    </tr>\n",
       "  </tbody>\n",
       "</table>\n",
       "</div>"
      ],
      "text/plain": [
       "   Serial Number  List Year Date Recorded     Town          Address  \\\n",
       "0        2020177       2020    2021-04-14  Ansonia    323 BEAVER ST   \n",
       "1        2020225       2020    2021-05-26  Ansonia   152 JACKSON ST   \n",
       "2        2020348       2020    2021-09-13  Ansonia  230 WAKELEE AVE   \n",
       "3        2020090       2020    2020-12-14  Ansonia      57 PLATT ST   \n",
       "4         210288       2021    2022-06-20     Avon   12 BYRON DRIVE   \n",
       "\n",
       "   Assessed Value  Sale Amount  Sales Ratio Property Type Residential Type  \\\n",
       "0        133000.0     248400.0       0.5354   Residential    Single Family   \n",
       "1        110500.0     239900.0       0.4606   Residential     Three Family   \n",
       "2        150500.0     325000.0       0.4630    Commercial              NaN   \n",
       "3        127400.0     202500.0       0.6291   Residential       Two Family   \n",
       "4        179990.0     362500.0       0.4965   Residential            Condo   \n",
       "\n",
       "    Latitude  Longitude  \n",
       "0  41.350140 -73.068220  \n",
       "1        NaN        NaN  \n",
       "2        NaN        NaN  \n",
       "3        NaN        NaN  \n",
       "4  41.773453 -72.879116  "
      ]
     },
     "execution_count": 8,
     "metadata": {},
     "output_type": "execute_result"
    }
   ],
   "source": [
    "df.head()"
   ]
  },
  {
   "cell_type": "code",
   "execution_count": 5,
   "id": "1be2e006-2c76-4b3b-9d4d-fabe42579b49",
   "metadata": {},
   "outputs": [],
   "source": [
    "# DEFINE FEATURES & TARGET\n",
    "\n",
    "features = ['Assessed Value', 'List Year', 'Town', 'Property Type', 'Residential Type']\n",
    "target = 'Sale Amount'"
   ]
  },
  {
   "cell_type": "code",
   "execution_count": 7,
   "id": "b80bd742-ac85-4f18-8bc0-fe546aac3f7b",
   "metadata": {},
   "outputs": [
    {
     "name": "stdout",
     "output_type": "stream",
     "text": [
      "=== INITIAL DATA CHECK ===\n",
      "Initial data shape: (1097629, 12)\n",
      "\n",
      "Missing values per column:\n",
      "Serial Number            0\n",
      "List Year                0\n",
      "Date Recorded            2\n",
      "Town                     0\n",
      "Address                 51\n",
      "Assessed Value           0\n",
      "Sale Amount              0\n",
      "Sales Ratio              0\n",
      "Property Type       382446\n",
      "Residential Type    398389\n",
      "Latitude            799518\n",
      "Longitude           799518\n",
      "dtype: int64\n"
     ]
    }
   ],
   "source": [
    "print(\"=== INITIAL DATA CHECK ===\")\n",
    "print(f\"Initial data shape: {df.shape}\")\n",
    "print(f\"\\nMissing values per column:\")\n",
    "print(df.isnull().sum())"
   ]
  },
  {
   "cell_type": "code",
   "execution_count": 9,
   "id": "e44748b6-d3ab-41fb-ab76-c6ddd821f5cb",
   "metadata": {},
   "outputs": [],
   "source": [
    "# DATA PREPROCESSING\n",
    "# Convert List Year to datetime and extract year\n",
    "\n",
    "df['List Year'] = pd.to_datetime(df['List Year'], errors='coerce')\n",
    "df = df.dropna(subset=['List Year'])  # remove failed parsing\n",
    "df['List Year'] = df['List Year'].dt.year.astype(int)"
   ]
  },
  {
   "cell_type": "code",
   "execution_count": 11,
   "id": "bcdd9f3e-b18c-4d3a-ad33-af1f8fbb801a",
   "metadata": {},
   "outputs": [],
   "source": [
    "# Remove rows with empty target\n",
    "\n",
    "df = df.dropna(subset=[target])"
   ]
  },
  {
   "cell_type": "code",
   "execution_count": 13,
   "id": "8a14c610-39f8-49f1-9f61-1c7ede482716",
   "metadata": {},
   "outputs": [
    {
     "name": "stdout",
     "output_type": "stream",
     "text": [
      "\n",
      "=== AFTER CLEANING ===\n",
      "Data shape after cleaning: (699240, 12)\n",
      "Missing values per column:\n",
      "Serial Number            0\n",
      "List Year                0\n",
      "Date Recorded            0\n",
      "Town                     0\n",
      "Address                  4\n",
      "Assessed Value           0\n",
      "Sale Amount              0\n",
      "Sales Ratio              0\n",
      "Property Type            0\n",
      "Residential Type         0\n",
      "Latitude            485149\n",
      "Longitude           485149\n",
      "dtype: int64\n"
     ]
    }
   ],
   "source": [
    "# Remove rows with empty important features\n",
    "df = df.dropna(subset=features)\n",
    "\n",
    "print(f\"\\n=== AFTER CLEANING ===\")\n",
    "print(f\"Data shape after cleaning: {df.shape}\")\n",
    "print(f\"Missing values per column:\")\n",
    "print(df.isnull().sum())"
   ]
  },
  {
   "cell_type": "code",
   "execution_count": 15,
   "id": "d60b927f-35f7-4108-a633-83d66aad6bb6",
   "metadata": {},
   "outputs": [],
   "source": [
    "# ENCODE CATEGORICAL VARIABLES\n",
    "# Convert categorical to dummy variables\n",
    "\n",
    "df = pd.get_dummies(df, columns=['Town', 'Property Type', 'Residential Type'], drop_first=True)"
   ]
  },
  {
   "cell_type": "code",
   "execution_count": 17,
   "id": "6b518580-8489-4e9f-99ff-42231921ceef",
   "metadata": {},
   "outputs": [],
   "source": [
    "# PREPARE X AND y\n",
    "# Take all columns except target and unnecessary columns\n",
    "\n",
    "columns_to_drop = [target, 'Date Recorded', 'Address']\n",
    "\n",
    "# Only drop columns that exist\n",
    "columns_to_drop = [col for col in columns_to_drop if col in df.columns]"
   ]
  },
  {
   "cell_type": "code",
   "execution_count": 19,
   "id": "605f8ad5-c91a-4754-b223-28a6e013f90b",
   "metadata": {},
   "outputs": [
    {
     "name": "stdout",
     "output_type": "stream",
     "text": [
      "\n",
      "=== FINAL DATA ===\n",
      "X shape: (699240, 184)\n",
      "y shape: (699240,)\n",
      "Features: ['Serial Number', 'List Year', 'Assessed Value', 'Sales Ratio', 'Latitude', 'Longitude', 'Town_Andover', 'Town_Ansonia', 'Town_Ashford', 'Town_Avon', 'Town_Barkhamsted', 'Town_Beacon Falls', 'Town_Berlin', 'Town_Bethany', 'Town_Bethel', 'Town_Bethlehem', 'Town_Bloomfield', 'Town_Bolton', 'Town_Bozrah', 'Town_Branford', 'Town_Bridgeport', 'Town_Bridgewater', 'Town_Bristol', 'Town_Brookfield', 'Town_Brooklyn', 'Town_Burlington', 'Town_Canaan', 'Town_Canterbury', 'Town_Canton', 'Town_Chaplin', 'Town_Cheshire', 'Town_Chester', 'Town_Clinton', 'Town_Colchester', 'Town_Colebrook', 'Town_Columbia', 'Town_Cornwall', 'Town_Coventry', 'Town_Cromwell', 'Town_Danbury', 'Town_Darien', 'Town_Deep River', 'Town_Derby', 'Town_Durham', 'Town_East Granby', 'Town_East Haddam', 'Town_East Hampton', 'Town_East Hartford', 'Town_East Haven', 'Town_East Lyme', 'Town_East Windsor', 'Town_Eastford', 'Town_Easton', 'Town_Ellington', 'Town_Enfield', 'Town_Essex', 'Town_Fairfield', 'Town_Farmington', 'Town_Franklin', 'Town_Glastonbury', 'Town_Goshen', 'Town_Granby', 'Town_Greenwich', 'Town_Griswold', 'Town_Groton', 'Town_Guilford', 'Town_Haddam', 'Town_Hamden', 'Town_Hampton', 'Town_Hartford', 'Town_Hartland', 'Town_Harwinton', 'Town_Hebron', 'Town_Kent', 'Town_Killingly', 'Town_Killingworth', 'Town_Lebanon', 'Town_Ledyard', 'Town_Lisbon', 'Town_Litchfield', 'Town_Lyme', 'Town_Madison', 'Town_Manchester', 'Town_Mansfield', 'Town_Marlborough', 'Town_Meriden', 'Town_Middlebury', 'Town_Middlefield', 'Town_Middletown', 'Town_Milford', 'Town_Monroe', 'Town_Montville', 'Town_Morris', 'Town_Naugatuck', 'Town_New Britain', 'Town_New Canaan', 'Town_New Fairfield', 'Town_New Hartford', 'Town_New Haven', 'Town_New London', 'Town_New Milford', 'Town_Newington', 'Town_Newtown', 'Town_Norfolk', 'Town_North Branford', 'Town_North Canaan', 'Town_North Haven', 'Town_North Stonington', 'Town_Norwalk', 'Town_Norwich', 'Town_Old Lyme', 'Town_Old Saybrook', 'Town_Orange', 'Town_Oxford', 'Town_Plainfield', 'Town_Plainville', 'Town_Plymouth', 'Town_Pomfret', 'Town_Portland', 'Town_Preston', 'Town_Prospect', 'Town_Putnam', 'Town_Redding', 'Town_Ridgefield', 'Town_Rocky Hill', 'Town_Roxbury', 'Town_Salem', 'Town_Salisbury', 'Town_Scotland', 'Town_Seymour', 'Town_Sharon', 'Town_Shelton', 'Town_Sherman', 'Town_Simsbury', 'Town_Somers', 'Town_South Windsor', 'Town_Southbury', 'Town_Southington', 'Town_Sprague', 'Town_Stafford', 'Town_Stamford', 'Town_Sterling', 'Town_Stonington', 'Town_Stratford', 'Town_Suffield', 'Town_Thomaston', 'Town_Thompson', 'Town_Tolland', 'Town_Torrington', 'Town_Trumbull', 'Town_Union', 'Town_Vernon', 'Town_Voluntown', 'Town_Wallingford', 'Town_Warren', 'Town_Washington', 'Town_Waterbury', 'Town_Waterford', 'Town_Watertown', 'Town_West Hartford', 'Town_West Haven', 'Town_Westbrook', 'Town_Weston', 'Town_Westport', 'Town_Wethersfield', 'Town_Willington', 'Town_Wilton', 'Town_Winchester', 'Town_Windham', 'Town_Windsor', 'Town_Windsor Locks', 'Town_Wolcott', 'Town_Woodbridge', 'Town_Woodbury', 'Town_Woodstock', 'Property Type_Four Family', 'Property Type_Residential', 'Property Type_Single Family', 'Property Type_Three Family', 'Property Type_Two Family', 'Residential Type_Four Family', 'Residential Type_Single Family', 'Residential Type_Three Family', 'Residential Type_Two Family']\n"
     ]
    }
   ],
   "source": [
    "X = df.drop(columns=columns_to_drop)\n",
    "y = df[target]\n",
    "\n",
    "print(f\"\\n=== FINAL DATA ===\")\n",
    "print(f\"X shape: {X.shape}\")\n",
    "print(f\"y shape: {y.shape}\")\n",
    "print(f\"Features: {list(X.columns)}\")"
   ]
  },
  {
   "cell_type": "code",
   "execution_count": 21,
   "id": "00229130-ff16-4fda-bd90-6c461976448d",
   "metadata": {},
   "outputs": [
    {
     "name": "stdout",
     "output_type": "stream",
     "text": [
      "\n",
      "Missing values in X: 970298\n",
      "Missing values in y: 0\n"
     ]
    }
   ],
   "source": [
    "# CHECK FINAL MISSING VALUES\n",
    "\n",
    "print(f\"\\nMissing values in X: {X.isnull().sum().sum()}\")\n",
    "print(f\"Missing values in y: {y.isnull().sum()}\")"
   ]
  },
  {
   "cell_type": "code",
   "execution_count": 23,
   "id": "30703f3d-c509-48f0-8457-2a5ee93ddc91",
   "metadata": {},
   "outputs": [],
   "source": [
    "# TRAIN-TEST SPLIT\n",
    "\n",
    "X_train, X_test, y_train, y_test = train_test_split(\n",
    "    X, y, test_size=0.2, random_state=42\n",
    ")"
   ]
  },
  {
   "cell_type": "code",
   "execution_count": 25,
   "id": "3f62ee31-3d51-40a8-b1d6-c640237111da",
   "metadata": {},
   "outputs": [
    {
     "name": "stdout",
     "output_type": "stream",
     "text": [
      "\n",
      "=== TRAIN-TEST SPLIT ===\n",
      "X_train shape: (559392, 184)\n",
      "X_test shape: (139848, 184)\n",
      "y_train shape: (559392,)\n",
      "y_test shape: (139848,)\n"
     ]
    }
   ],
   "source": [
    "print(f\"\\n=== TRAIN-TEST SPLIT ===\")\n",
    "print(f\"X_train shape: {X_train.shape}\")\n",
    "print(f\"X_test shape: {X_test.shape}\")\n",
    "print(f\"y_train shape: {y_train.shape}\")\n",
    "print(f\"y_test shape: {y_test.shape}\")"
   ]
  },
  {
   "cell_type": "code",
   "execution_count": 27,
   "id": "03e2a2a8-aa27-41e2-aad9-079b7bf1c9e5",
   "metadata": {},
   "outputs": [
    {
     "name": "stdout",
     "output_type": "stream",
     "text": [
      "\n",
      "Columns with NaN in X_train:\n",
      "Latitude     388082\n",
      "Longitude    388082\n",
      "dtype: int64\n"
     ]
    }
   ],
   "source": [
    "# If there are NaN values, show which columns\n",
    "\n",
    "if X_train.isnull().sum().sum() > 0:\n",
    "    print(\"\\nColumns with NaN in X_train:\")\n",
    "    nan_cols = X_train.isnull().sum()\n",
    "    print(nan_cols[nan_cols > 0])"
   ]
  },
  {
   "cell_type": "code",
   "execution_count": 29,
   "id": "b4247d9d-493d-4569-bcd9-8672621e1cbe",
   "metadata": {},
   "outputs": [
    {
     "name": "stdout",
     "output_type": "stream",
     "text": [
      "\n",
      "Data types in X_train:\n",
      "bool       178\n",
      "float64      4\n",
      "int64        1\n",
      "int32        1\n",
      "Name: count, dtype: int64\n"
     ]
    }
   ],
   "source": [
    "# Check data types\n",
    "\n",
    "print(f\"\\nData types in X_train:\")\n",
    "print(X_train.dtypes.value_counts())"
   ]
  },
  {
   "cell_type": "code",
   "execution_count": 31,
   "id": "f3c46c68-27f2-45f5-9d2e-d6dfb4676618",
   "metadata": {},
   "outputs": [
    {
     "name": "stdout",
     "output_type": "stream",
     "text": [
      "\n",
      "Non-numeric columns: ['Town_Andover', 'Town_Ansonia', 'Town_Ashford', 'Town_Avon', 'Town_Barkhamsted', 'Town_Beacon Falls', 'Town_Berlin', 'Town_Bethany', 'Town_Bethel', 'Town_Bethlehem', 'Town_Bloomfield', 'Town_Bolton', 'Town_Bozrah', 'Town_Branford', 'Town_Bridgeport', 'Town_Bridgewater', 'Town_Bristol', 'Town_Brookfield', 'Town_Brooklyn', 'Town_Burlington', 'Town_Canaan', 'Town_Canterbury', 'Town_Canton', 'Town_Chaplin', 'Town_Cheshire', 'Town_Chester', 'Town_Clinton', 'Town_Colchester', 'Town_Colebrook', 'Town_Columbia', 'Town_Cornwall', 'Town_Coventry', 'Town_Cromwell', 'Town_Danbury', 'Town_Darien', 'Town_Deep River', 'Town_Derby', 'Town_Durham', 'Town_East Granby', 'Town_East Haddam', 'Town_East Hampton', 'Town_East Hartford', 'Town_East Haven', 'Town_East Lyme', 'Town_East Windsor', 'Town_Eastford', 'Town_Easton', 'Town_Ellington', 'Town_Enfield', 'Town_Essex', 'Town_Fairfield', 'Town_Farmington', 'Town_Franklin', 'Town_Glastonbury', 'Town_Goshen', 'Town_Granby', 'Town_Greenwich', 'Town_Griswold', 'Town_Groton', 'Town_Guilford', 'Town_Haddam', 'Town_Hamden', 'Town_Hampton', 'Town_Hartford', 'Town_Hartland', 'Town_Harwinton', 'Town_Hebron', 'Town_Kent', 'Town_Killingly', 'Town_Killingworth', 'Town_Lebanon', 'Town_Ledyard', 'Town_Lisbon', 'Town_Litchfield', 'Town_Lyme', 'Town_Madison', 'Town_Manchester', 'Town_Mansfield', 'Town_Marlborough', 'Town_Meriden', 'Town_Middlebury', 'Town_Middlefield', 'Town_Middletown', 'Town_Milford', 'Town_Monroe', 'Town_Montville', 'Town_Morris', 'Town_Naugatuck', 'Town_New Britain', 'Town_New Canaan', 'Town_New Fairfield', 'Town_New Hartford', 'Town_New Haven', 'Town_New London', 'Town_New Milford', 'Town_Newington', 'Town_Newtown', 'Town_Norfolk', 'Town_North Branford', 'Town_North Canaan', 'Town_North Haven', 'Town_North Stonington', 'Town_Norwalk', 'Town_Norwich', 'Town_Old Lyme', 'Town_Old Saybrook', 'Town_Orange', 'Town_Oxford', 'Town_Plainfield', 'Town_Plainville', 'Town_Plymouth', 'Town_Pomfret', 'Town_Portland', 'Town_Preston', 'Town_Prospect', 'Town_Putnam', 'Town_Redding', 'Town_Ridgefield', 'Town_Rocky Hill', 'Town_Roxbury', 'Town_Salem', 'Town_Salisbury', 'Town_Scotland', 'Town_Seymour', 'Town_Sharon', 'Town_Shelton', 'Town_Sherman', 'Town_Simsbury', 'Town_Somers', 'Town_South Windsor', 'Town_Southbury', 'Town_Southington', 'Town_Sprague', 'Town_Stafford', 'Town_Stamford', 'Town_Sterling', 'Town_Stonington', 'Town_Stratford', 'Town_Suffield', 'Town_Thomaston', 'Town_Thompson', 'Town_Tolland', 'Town_Torrington', 'Town_Trumbull', 'Town_Union', 'Town_Vernon', 'Town_Voluntown', 'Town_Wallingford', 'Town_Warren', 'Town_Washington', 'Town_Waterbury', 'Town_Waterford', 'Town_Watertown', 'Town_West Hartford', 'Town_West Haven', 'Town_Westbrook', 'Town_Weston', 'Town_Westport', 'Town_Wethersfield', 'Town_Willington', 'Town_Wilton', 'Town_Winchester', 'Town_Windham', 'Town_Windsor', 'Town_Windsor Locks', 'Town_Wolcott', 'Town_Woodbridge', 'Town_Woodbury', 'Town_Woodstock', 'Property Type_Four Family', 'Property Type_Residential', 'Property Type_Single Family', 'Property Type_Three Family', 'Property Type_Two Family', 'Residential Type_Four Family', 'Residential Type_Single Family', 'Residential Type_Three Family', 'Residential Type_Two Family']\n",
      "These need to be converted to numeric!\n"
     ]
    }
   ],
   "source": [
    "# Check for non-numeric columns\n",
    "\n",
    "non_numeric = X_train.select_dtypes(exclude=[np.number]).columns\n",
    "if len(non_numeric) > 0:\n",
    "    print(f\"\\nNon-numeric columns: {list(non_numeric)}\")\n",
    "    print(\"These need to be converted to numeric!\")"
   ]
  },
  {
   "cell_type": "code",
   "execution_count": 33,
   "id": "daa71d4e-2e70-4a6d-b2f5-35f5063f13f1",
   "metadata": {},
   "outputs": [
    {
     "name": "stdout",
     "output_type": "stream",
     "text": [
      "\n",
      "=== QUICK FIX ===\n"
     ]
    }
   ],
   "source": [
    "# QUICK FIX FOR REMAINING NaN\n",
    "\n",
    "print(\"\\n=== QUICK FIX ===\")"
   ]
  },
  {
   "cell_type": "code",
   "execution_count": 35,
   "id": "2f6ec055-9f01-4752-97ed-e864a7b24a23",
   "metadata": {},
   "outputs": [
    {
     "name": "stdout",
     "output_type": "stream",
     "text": [
      "Removing rows with NaN...\n"
     ]
    }
   ],
   "source": [
    "# Remove rows with NaN\n",
    "\n",
    "if X_train.isnull().sum().sum() > 0 or y_train.isnull().sum() > 0:\n",
    "    print(\"Removing rows with NaN...\")"
   ]
  },
  {
   "cell_type": "code",
   "execution_count": 37,
   "id": "74f3916f-13ec-4b73-af85-4772e4941772",
   "metadata": {},
   "outputs": [
    {
     "name": "stdout",
     "output_type": "stream",
     "text": [
      "\n",
      "=== FINAL CHECK ===\n",
      "NaN in X_train: 776164\n",
      "NaN in y_train: 0\n",
      "Infinite values in X_train: 0\n",
      "Infinite values in y_train: 0\n"
     ]
    }
   ],
   "source": [
    "# FINAL CHECK BEFORE TRAINING\n",
    "\n",
    "print(f\"\\n=== FINAL CHECK ===\")\n",
    "print(f\"NaN in X_train: {X_train.isnull().sum().sum()}\")\n",
    "print(f\"NaN in y_train: {y_train.isnull().sum()}\")\n",
    "print(f\"Infinite values in X_train: {np.isinf(X_train).sum().sum()}\")\n",
    "print(f\"Infinite values in y_train: {np.isinf(y_train).sum()}\")"
   ]
  },
  {
   "cell_type": "code",
   "execution_count": 39,
   "id": "f475c86f-6d3a-4e7a-a312-4537e020eb23",
   "metadata": {},
   "outputs": [],
   "source": [
    "# Recombine X and y so they can drop NaN together\n",
    "\n",
    "train_df = pd.concat([X_train, y_train], axis=1)"
   ]
  },
  {
   "cell_type": "code",
   "execution_count": 41,
   "id": "1e2d73cb-7cd1-4a23-b788-24b5800ada26",
   "metadata": {},
   "outputs": [],
   "source": [
    "# Drop all rows containing NaN\n",
    "\n",
    "train_df = train_df.dropna()"
   ]
  },
  {
   "cell_type": "code",
   "execution_count": 43,
   "id": "3a588fac-ebae-4afc-8225-2f2afac794b2",
   "metadata": {},
   "outputs": [
    {
     "name": "stdout",
     "output_type": "stream",
     "text": [
      "NaN in X_train: 0\n",
      "NaN in y_train: 0\n"
     ]
    }
   ],
   "source": [
    "# Re-split X_train and y_train\n",
    "\n",
    "X_train = train_df.drop(columns=[target])\n",
    "y_train = train_df[target]\n",
    "\n",
    "print(f\"NaN in X_train: {X_train.isnull().sum().sum()}\")\n",
    "print(f\"NaN in y_train: {y_train.isnull().sum()}\")"
   ]
  },
  {
   "cell_type": "code",
   "execution_count": 51,
   "id": "033dbe45-0905-46e8-b132-68dd3b7d6309",
   "metadata": {},
   "outputs": [],
   "source": [
    "# Combine X_test and y_test to clean NaN\n",
    "test_df = pd.concat([X_test, y_test], axis=1)\n",
    "\n",
    "# Drop all rows containing NaN\n",
    "test_df = test_df.dropna()\n",
    "\n",
    "#Re-separate\n",
    "X_test = test_df.drop(columns=[target])\n",
    "y_test = test_df[target]"
   ]
  },
  {
   "cell_type": "code",
   "execution_count": 45,
   "id": "e6ace6c3-6c54-4659-9c14-73ab1553f3e9",
   "metadata": {},
   "outputs": [
    {
     "name": "stdout",
     "output_type": "stream",
     "text": [
      "\n",
      "=== TRAINING MODEL ===\n",
      "✅ Model trained successfully!\n"
     ]
    }
   ],
   "source": [
    "# TRAINING MODEL\n",
    "\n",
    "print(\"\\n=== TRAINING MODEL ===\")\n",
    "model = LinearRegression()\n",
    "model.fit(X_train, y_train)\n",
    "print(\"✅ Model trained successfully!\")"
   ]
  },
  {
   "cell_type": "code",
   "execution_count": 47,
   "id": "274fd7ca-c279-41e6-a73c-f638117707a6",
   "metadata": {},
   "outputs": [
    {
     "name": "stdout",
     "output_type": "stream",
     "text": [
      "Training R² score: 0.1180\n"
     ]
    }
   ],
   "source": [
    "# Evaluate on training set\n",
    "\n",
    "train_score = model.score(X_train, y_train)\n",
    "print(f\"Training R² score: {train_score:.4f}\")"
   ]
  },
  {
   "cell_type": "code",
   "execution_count": 53,
   "id": "34bfddbb-4e5a-4f28-8969-bbee5fa8224b",
   "metadata": {},
   "outputs": [
    {
     "name": "stdout",
     "output_type": "stream",
     "text": [
      "Test R² score: 0.2854\n",
      "Test RMSE: 627731.69\n"
     ]
    }
   ],
   "source": [
    "# Predict and evaluate on test set\n",
    "\n",
    "y_pred = model.predict(X_test)\n",
    "test_score = r2_score(y_test, y_pred)\n",
    "rmse = np.sqrt(mean_squared_error(y_test, y_pred))\n",
    "\n",
    "print(f\"Test R² score: {test_score:.4f}\")\n",
    "print(f\"Test RMSE: {rmse:.2f}\")\n"
   ]
  },
  {
   "cell_type": "code",
   "execution_count": 59,
   "id": "6b1bb278-7360-4c4f-b70e-b6688003d423",
   "metadata": {},
   "outputs": [
    {
     "data": {
      "image/png": "[encoded data removed]",
      "text/plain": [
       "<Figure size 800x600 with 1 Axes>"
      ]
     },
     "metadata": {},
     "output_type": "display_data"
    }
   ],
   "source": [
    "# Visualize prediction vs actual\n",
    "\n",
    "plt.figure(figsize=(8, 6))\n",
    "plt.scatter(y_test, y_pred, alpha=0.5)\n",
    "plt.xlabel(\"Harga Asli\")\n",
    "plt.ylabel(\"Harga Prediksi\")\n",
    "plt.title(\"Prediksi vs Harga Asli\")\n",
    "plt.grid(True)\n",
    "plt.show()"
   ]
  },
  {
   "cell_type": "markdown",
   "id": "795479fe-69fc-473c-a6c0-4f2243d1cb4e",
   "metadata": {},
   "source": [
    "## Conclusion & Next Steps\n",
    "\n",
    "### Prediction Results:\n",
    "- **Test R² score:** 0.2854  \n",
    "- **Test RMSE:** 627,731.69  \n",
    "\n",
    "### Interpretation:\n",
    "\n",
    "- The **R² score of 0.285** indicates that the model can only explain **28.5%** of the variance in property sale prices. This means that while some relationships were captured, the model misses significant underlying patterns.\n",
    "- The **RMSE of ~627K** suggests that predictions are, on average, off by a large margin — especially if typical property prices are within the 500K–1M range.\n",
    "\n",
    "### Identified Limitations:\n",
    "- Outliers and extreme values may be impacting model performance.\n",
    "- Categorical features might not be fully or properly encoded.\n",
    "- Linear regression is likely **too simple** to model complex real estate relationships.\n",
    "- Some important real estate factors (like building age, location desirability, amenities, etc.) are missing.\n",
    "\n",
    "### Future Improvements:\n",
    "\n",
    "#### Switch to **non-linear models** such as:\n",
    "- Random Forest Regressor\n",
    "- Gradient Boosting Regressor\n",
    "\n",
    "  \n",
    "#### Apply **better feature engineering**, such as:\n",
    "- Time-based features (sale month, year)\n",
    "- Price per square meter\n",
    "\n",
    "#### **Treat outliers** and normalize skewed data.\n",
    "- Use **pipelines** for preprocessing + modeling.\n",
    "- Add more **external data sources** (e.g., economic indicators, interest rates).\n"
   ]
  },
  {
   "cell_type": "code",
   "execution_count": null,
   "id": "f56740c4-47a6-4116-89bc-5ead7ea10516",
   "metadata": {},
   "outputs": [],
   "source": []
  }
 ],
 "metadata": {
  "kernelspec": {
   "display_name": "Python [conda env:base] *",
   "language": "python",
   "name": "conda-base-py"
  },
  "language_info": {
   "codemirror_mode": {
    "name": "ipython",
    "version": 3
   },
   "file_extension": ".py",
   "mimetype": "text/x-python",
   "name": "python",
   "nbconvert_exporter": "python",
   "pygments_lexer": "ipython3",
   "version": "3.12.7"
  }
 },
 "nbformat": 4,
 "nbformat_minor": 5
}
